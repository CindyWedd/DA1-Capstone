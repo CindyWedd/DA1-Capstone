{
 "cells": [
  {
   "cell_type": "markdown",
   "id": "e678b2be",
   "metadata": {},
   "source": [
    "Netflix Shows and Movies Analysis"
   ]
  },
  {
   "cell_type": "markdown",
   "id": "7f49af56",
   "metadata": {},
   "source": [
    "DA1-Capstone"
   ]
  },
  {
   "cell_type": "markdown",
   "id": "8477fcb8",
   "metadata": {
    "vscode": {
     "languageId": "plaintext"
    }
   },
   "source": [
    "This project contains data from a dataset obtained from Kaggle.com with detailed information regarding TV Shows and Movies available to subscribers of Netflix.  The other dataset was obtained from ImdbId through suveys performed to determine what subscribers most often watched"
   ]
  },
  {
   "cell_type": "markdown",
   "id": "25dda75f",
   "metadata": {},
   "source": [
    "Key Findings\n",
    "\n",
    "I confirmed that my choice in entertainment is well beyond what I expected."
   ]
  },
  {
   "cell_type": "markdown",
   "id": "69faf97e",
   "metadata": {},
   "source": [
    "Data Inconsistencies, Limitations, or Issues\n",
    "\n",
    "The ImdbId data did not contain much content in comparison to Kaggle.com.  However, it did supplies ratings so the Netflix could be more readily placed in tables and preparation for visualizations"
   ]
  },
  {
   "cell_type": "markdown",
   "id": "693cc68b",
   "metadata": {},
   "source": [
    "Conclusion\n",
    "\n",
    "I enjoy Netflix and like the variety of genres that are offered.  So, I will have some excellent for me, my family and friends to see what is offered and how it is rated and ranked in the surveys.\n",
    "\n",
    "I also learned that I had a lot learn about SQL and plotting.  The visualzations are there, but not pretty.\n",
    "\n",
    "I appreciate the opportunity to have been involved with CodeYou.  Since retirement I had isolated myself to close family and friends. This program gave me an opportunity to meet many great people who I hope to remain in contact with.\n",
    "\n",
    "This is probably not the \"Conclusion\" you wanted, but I enjoyed the program and have found inspiration to continue learning and possibly working part-time remotely. My only complaint is on myself.  I let my shyness and feeling of unworthiness keep me from asking for help."
   ]
  },
  {
   "cell_type": "markdown",
   "id": "2734c03c",
   "metadata": {},
   "source": [
    "Data Sources:\n",
    "\n",
    "https://www.kaggle.com/datasets/\n",
    "Netflix Movies and TV Shows\n",
    "IMDb Ratings_Data_Expand Genre\n",
    "https://www.nielsen.com/data-center-top-ten/#:~:text=Nielson%20TV%20Ratings"
   ]
  }
 ],
 "metadata": {
  "language_info": {
   "name": "python"
  }
 },
 "nbformat": 4,
 "nbformat_minor": 5
}
