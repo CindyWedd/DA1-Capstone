{
 "cells": [
  {
   "cell_type": "markdown",
   "id": "e678b2be",
   "metadata": {},
   "source": [
    "Netflix Shows and Movies Analysis"
   ]
  },
  {
   "cell_type": "markdown",
   "id": "7f49af56",
   "metadata": {},
   "source": [
    "DA1-Capstone"
   ]
  },
  {
   "cell_type": "markdown",
   "id": "eda3a64e",
   "metadata": {},
   "source": [
    "Why is Netflix so Popular?"
   ]
  },
  {
   "cell_type": "markdown",
   "id": "f83f5419",
   "metadata": {},
   "source": [
    "Introduction"
   ]
  },
  {
   "cell_type": "code",
   "execution_count": null,
   "id": "8477fcb8",
   "metadata": {
    "vscode": {
     "languageId": "plaintext"
    }
   },
   "outputs": [],
   "source": []
  },
  {
   "cell_type": "markdown",
   "id": "25dda75f",
   "metadata": {},
   "source": [
    "Key Findings"
   ]
  },
  {
   "cell_type": "markdown",
   "id": "8c648133",
   "metadata": {},
   "source": [
    "Click here to view Dashboard on Tableau Public for visual representations"
   ]
  },
  {
   "cell_type": "markdown",
   "id": "69faf97e",
   "metadata": {},
   "source": [
    "Data Inconsistencies, Limitations, or Issues"
   ]
  },
  {
   "cell_type": "markdown",
   "id": "ff69499a",
   "metadata": {},
   "source": [
    "Next Steps"
   ]
  },
  {
   "cell_type": "markdown",
   "id": "693cc68b",
   "metadata": {},
   "source": [
    "Conclusion"
   ]
  },
  {
   "cell_type": "markdown",
   "id": "2734c03c",
   "metadata": {},
   "source": [
    "Data Sources:\n",
    "\n",
    "https://www.kaggle.com/datasets/\n",
    "Netflix Movies and TV Shows\n",
    "IMDb Ratings_Data_Expand Genre\n",
    "https://www.nielsen.com/data-center-top-ten/#:~:text=Nielson%20TV%20Ratings"
   ]
  }
 ],
 "metadata": {
  "language_info": {
   "name": "python"
  }
 },
 "nbformat": 4,
 "nbformat_minor": 5
}
