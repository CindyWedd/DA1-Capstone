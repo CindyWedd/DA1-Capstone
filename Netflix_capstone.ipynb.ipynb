{
 "cells": [
  {
   "cell_type": "markdown",
   "id": "736018c6",
   "metadata": {},
   "source": [
    "Netflix Shows and Movies Analysis"
   ]
  },
  {
   "cell_type": "markdown",
   "id": "68a97612",
   "metadata": {
    "vscode": {
     "languageId": "html"
    }
   },
   "source": [
    "Importing Libraries:"
   ]
  },
  {
   "cell_type": "code",
   "execution_count": null,
   "id": "269fccf3",
   "metadata": {},
   "outputs": [],
   "source": [
    "import pandas as pd\n",
    "import sqlite3\n",
    "import numpy as np\n",
    "import matplotlib.pyplot as plt\n",
    "import wordcloud"
   ]
  },
  {
   "cell_type": "markdown",
   "id": "775d4e19",
   "metadata": {},
   "source": [
    "Import First Dataset:"
   ]
  },
  {
   "cell_type": "code",
   "execution_count": null,
   "id": "9f87c258",
   "metadata": {},
   "outputs": [],
   "source": [
    "First_imdb_data = pd.read_csv('./ratingsData.csv')\n",
    "First_imdb_data   "
   ]
  },
  {
   "cell_type": "code",
   "execution_count": null,
   "id": "24fcdccf",
   "metadata": {},
   "outputs": [],
   "source": [
    "#Making first Panda DataFrame\n",
    "df = pd.DataFrame(First_imdb_data)"
   ]
  },
  {
   "cell_type": "markdown",
   "id": "afeee76d",
   "metadata": {},
   "source": [
    "# testing filtering data"
   ]
  },
  {
   "cell_type": "code",
   "execution_count": null,
   "id": "9d6372de",
   "metadata": {},
   "outputs": [],
   "source": [
    "filtered_df = df.drop(columns=[\"availableCountries\", \"imdbNumVotes\", \"imdbId\"], errors=\"ignore\")"
   ]
  },
  {
   "cell_type": "code",
   "execution_count": null,
   "id": "c8981baf",
   "metadata": {},
   "outputs": [],
   "source": [
    "filtered_df.head()"
   ]
  },
  {
   "cell_type": "code",
   "execution_count": null,
   "id": "f86b799c",
   "metadata": {},
   "outputs": [],
   "source": [
    "filtered_df.isnull().sum()"
   ]
  },
  {
   "cell_type": "code",
   "execution_count": null,
   "id": "eba4f12a",
   "metadata": {},
   "outputs": [],
   "source": [
    "filtered_df.dropna(inplace=True)"
   ]
  },
  {
   "cell_type": "code",
   "execution_count": null,
   "id": "3447f2f8",
   "metadata": {},
   "outputs": [],
   "source": [
    "filtered_df=filtered_df[filtered_df[\"genres\"]!=83]"
   ]
  },
  {
   "cell_type": "code",
   "execution_count": null,
   "id": "bdf02e48",
   "metadata": {},
   "outputs": [],
   "source": [
    "filtered_df[\"genres\"].unique()"
   ]
  },
  {
   "cell_type": "code",
   "execution_count": null,
   "id": "84269893",
   "metadata": {},
   "outputs": [],
   "source": [
    "df[\"releaseYear\"].unique()"
   ]
  },
  {
   "cell_type": "code",
   "execution_count": null,
   "id": "f70bb027",
   "metadata": {},
   "outputs": [],
   "source": [
    "df[\"imdbAverageRating\"].unique()"
   ]
  },
  {
   "cell_type": "markdown",
   "id": "a17df27c",
   "metadata": {},
   "source": [
    "#Let's see if the release year is in the 2010s\n",
    "#def is_from_2000s(year: [int64]) -> bool:\n",
    "#    if pd.isna(year):\n",
    "        return False\n",
    "#    return 2000 <= year <= 2025\n",
    "#def is_from_2000s = (def['release_Year'].apply(is_from_2000s))\n",
    "#merged_data"
   ]
  },
  {
   "cell_type": "code",
   "execution_count": null,
   "id": "27495518",
   "metadata": {},
   "outputs": [],
   "source": [
    "def is_from_2000s(year: int) -> bool:\n",
    "    \"\"\"Return True if the given year is between 2000 and 2009.\"\"\"\n",
    "    return 2000 <= year <= 2009"
   ]
  },
  {
   "cell_type": "code",
   "execution_count": null,
   "id": "0a2ebc42",
   "metadata": {},
   "outputs": [],
   "source": []
  },
  {
   "cell_type": "code",
   "execution_count": null,
   "id": "322c1100",
   "metadata": {},
   "outputs": [],
   "source": [
    "# Looking at the dataset\n",
    "df.info()"
   ]
  },
  {
   "cell_type": "code",
   "execution_count": null,
   "id": "10161910",
   "metadata": {},
   "outputs": [],
   "source": [
    "print(df.head)"
   ]
  },
  {
   "cell_type": "code",
   "execution_count": null,
   "id": "735f336b",
   "metadata": {},
   "outputs": [],
   "source": [
    "print(df.tail())"
   ]
  },
  {
   "cell_type": "code",
   "execution_count": null,
   "id": "e81d414f",
   "metadata": {},
   "outputs": [],
   "source": [
    "#df.info()"
   ]
  },
  {
   "cell_type": "code",
   "execution_count": null,
   "id": "d9289bc7",
   "metadata": {},
   "outputs": [],
   "source": [
    "#df.describe"
   ]
  },
  {
   "cell_type": "code",
   "execution_count": null,
   "id": "20ea0089",
   "metadata": {},
   "outputs": [],
   "source": [
    "#df.dtypes"
   ]
  },
  {
   "cell_type": "code",
   "execution_count": null,
   "id": "5b9b52d1",
   "metadata": {},
   "outputs": [],
   "source": [
    "#df.drop(columns=[\"availableCountries\", \"imdbNumVotes\", \"imdbId\"], inplace=True)"
   ]
  },
  {
   "cell_type": "code",
   "execution_count": null,
   "id": "f383dd2a",
   "metadata": {},
   "outputs": [],
   "source": [
    "df.rename(columns={'releaseYear': 'Year Released', 'imdbAverageRating': 'IMDB Score'}, inplace=True)"
   ]
  },
  {
   "cell_type": "code",
   "execution_count": null,
   "id": "403d4719",
   "metadata": {},
   "outputs": [],
   "source": [
    "df.sort_values(by='title', ascending=False)"
   ]
  },
  {
   "cell_type": "code",
   "execution_count": null,
   "id": "d8c7634f",
   "metadata": {},
   "outputs": [],
   "source": [
    "df = df.dropna().reset_index(drop=True)"
   ]
  },
  {
   "cell_type": "code",
   "execution_count": null,
   "id": "60ad6a33",
   "metadata": {},
   "outputs": [],
   "source": [
    "df"
   ]
  },
  {
   "cell_type": "markdown",
   "id": "50516646",
   "metadata": {},
   "source": [
    "Stats:\tCount = Non-nan values, \n",
    "mean = average value, \n",
    "std = standard deviation, \n",
    "min = smallest value,\n",
    "volume percentages with median at 50%"
   ]
  },
  {
   "cell_type": "code",
   "execution_count": null,
   "id": "7e764390",
   "metadata": {},
   "outputs": [],
   "source": []
  },
  {
   "cell_type": "code",
   "execution_count": null,
   "id": "7ba59867",
   "metadata": {},
   "outputs": [],
   "source": [
    "df['Year Released'] = df['Year Released'].astype('int64')"
   ]
  },
  {
   "cell_type": "code",
   "execution_count": null,
   "id": "f2bc2970",
   "metadata": {},
   "outputs": [],
   "source": [
    "# Counting number of NaNs (Missing or undefined value) in Different Columns\n",
    "print(df.isna().sum())"
   ]
  },
  {
   "cell_type": "code",
   "execution_count": null,
   "id": "2bd9cc37",
   "metadata": {},
   "outputs": [],
   "source": [
    "#remove select columns\n",
    "df = df.drop(columns=[\"availableCountries\", \"imdbNumVotes\"])\n",
    "\n",
    "# Displays remaining columns after dropping 6"
   ]
  },
  {
   "cell_type": "code",
   "execution_count": null,
   "id": "f1e2cbfd",
   "metadata": {},
   "outputs": [],
   "source": [
    "df.head"
   ]
  },
  {
   "cell_type": "code",
   "execution_count": null,
   "id": "a5bf52a6",
   "metadata": {},
   "outputs": [],
   "source": [
    "df = df.dropna().reset_index(drop=True)"
   ]
  },
  {
   "cell_type": "code",
   "execution_count": null,
   "id": "2422af84",
   "metadata": {},
   "outputs": [],
   "source": [
    "#consistent column names \n",
    "df.rename(columns={'releaseYear': 'Year Released', 'listed_in': 'Genres', 'title': 'Title', 'type': 'Type', 'imdbId': 'IMDB Score'}, inplace=True)\n"
   ]
  },
  {
   "cell_type": "markdown",
   "id": "8a052f38",
   "metadata": {},
   "source": [
    "Import Data:"
   ]
  },
  {
   "cell_type": "code",
   "execution_count": null,
   "id": "24a5f278",
   "metadata": {},
   "outputs": [],
   "source": [
    "Second_netflix_data = pd.read_csv('./netflix_titles.csv')\n",
    "Second_netflix_data"
   ]
  },
  {
   "cell_type": "markdown",
   "id": "89d6c9b2",
   "metadata": {},
   "source": []
  },
  {
   "cell_type": "code",
   "execution_count": null,
   "id": "ab363a97",
   "metadata": {},
   "outputs": [],
   "source": [
    "#Making first Panda DataFrame\n",
    "df2 = pd.DataFrame(Second_netflix_data)"
   ]
  },
  {
   "cell_type": "code",
   "execution_count": null,
   "id": "197c9fe3",
   "metadata": {},
   "outputs": [],
   "source": []
  },
  {
   "cell_type": "markdown",
   "id": "2ee83a95",
   "metadata": {},
   "source": [
    "Clean Data"
   ]
  },
  {
   "cell_type": "code",
   "execution_count": null,
   "id": "581438f8",
   "metadata": {},
   "outputs": [],
   "source": [
    "#Dropping NaN values for second data set\n",
    "df2 = df2.dropna().reset_index(drop=True)"
   ]
  },
  {
   "cell_type": "code",
   "execution_count": null,
   "id": "fcae0a26",
   "metadata": {},
   "outputs": [],
   "source": [
    "print(df2.dtypes)\n"
   ]
  },
  {
   "cell_type": "code",
   "execution_count": null,
   "id": "e4fabf7e",
   "metadata": {},
   "outputs": [],
   "source": [
    "print(df2.head())"
   ]
  },
  {
   "cell_type": "code",
   "execution_count": null,
   "id": "bd03d6d7",
   "metadata": {},
   "outputs": [],
   "source": [
    "print(df2.tail())"
   ]
  },
  {
   "cell_type": "code",
   "execution_count": null,
   "id": "f8c91701",
   "metadata": {},
   "outputs": [],
   "source": [
    "#consistent column names \n",
    "df2.rename (columns={'release_year': 'Year Released', 'listed_in': 'Genres', 'title': 'Title', 'type': 'Type', 'rating': 'Rating', 'duration': 'Duration', 'description': 'Description'}, inplace=True)\n"
   ]
  },
  {
   "cell_type": "code",
   "execution_count": null,
   "id": "58d903f8",
   "metadata": {},
   "outputs": [],
   "source": [
    "df2.info()"
   ]
  },
  {
   "cell_type": "code",
   "execution_count": null,
   "metadata": {},
   "outputs": [],
   "source": [
    "df2.describe()"
   ]
  },
  {
   "cell_type": "code",
   "execution_count": null,
   "id": "f3cf6213",
   "metadata": {},
   "outputs": [],
   "source": [
    "df.to_csv('ratings.csv', index=False)"
   ]
  },
  {
   "cell_type": "code",
   "execution_count": null,
   "id": "1f1c4e26",
   "metadata": {},
   "outputs": [],
   "source": [
    "df2.to_csv('netflix.csv', index=False)"
   ]
  },
  {
   "cell_type": "code",
   "execution_count": null,
   "id": "2d9a7a16",
   "metadata": {},
   "outputs": [],
   "source": [
    "import sqlite3"
   ]
  },
  {
   "cell_type": "code",
   "execution_count": null,
   "id": "9a033a37",
   "metadata": {},
   "outputs": [],
   "source": [
    "df.head()"
   ]
  },
  {
   "cell_type": "code",
   "execution_count": null,
   "id": "4c7aa1cd",
   "metadata": {},
   "outputs": [],
   "source": [
    "df2.tail()\n"
   ]
  },
  {
   "cell_type": "code",
   "execution_count": null,
   "id": "a31dba3f",
   "metadata": {
    "vscode": {
     "languageId": "sql"
    }
   },
   "outputs": [],
   "source": [
    "conn = sqlite3.connect('merged_data.db')\n",
    "cursor = conn.cursor()"
   ]
  },
  {
   "cell_type": "code",
   "execution_count": null,
   "id": "ffc42e29",
   "metadata": {
    "vscode": {
     "languageId": "sql"
    }
   },
   "outputs": [],
   "source": [
    "df = pd.read_csv('ratings.csv')\n",
    "df2 = pd.read_csv('netflix.csv')\n"
   ]
  },
  {
   "cell_type": "code",
   "execution_count": null,
   "id": "b867b52e",
   "metadata": {
    "vscode": {
     "languageId": "sql"
    }
   },
   "outputs": [],
   "source": [
    "#Creating table called 'ratings'\n",
    "cursor.execute(\"\"\"\n",
    "CREATE TABLE IF NOT EXISTS ratings (Title TEXT PRIMARY KEY,\n",
    "    Type TEXT NOT NULL,\n",
    "    Genres TEXT NOT NULL,\n",
    "    Year Released INTEGER NOT NULL,\n",
    "    IMDB Score REAL NOT NULL);\"\"\")\n",
    "\n",
    "\n",
    "df.to_sql(\"ratings\", conn, if_exists=\"replace\", index=False)\n",
    "\n",
    "\n",
    "print(\"ratings table:\\n\")\n",
    "pd.read_sql_query(\"SELECT * FROM ratings\", conn)\n"
   ]
  },
  {
   "cell_type": "code",
   "execution_count": null,
   "id": "073c6cf7",
   "metadata": {
    "vscode": {
     "languageId": "sql"
    }
   },
   "outputs": [],
   "source": [
    "#PRAGMA optimize;\n",
    "#runs the automatic index analysis and optimization process which helps SQLite to make better decisions and table"
   ]
  },
  {
   "cell_type": "code",
   "execution_count": null,
   "id": "48cc6558",
   "metadata": {
    "vscode": {
     "languageId": "sql"
    }
   },
   "outputs": [],
   "source": [
    "#Creating table called 'netflix'\n",
    "cursor.execute(\"\"\"\n",
    "CREATE TABLE IF NOT EXISTS netflix (\n",
    "    type TEXT NOT NULL,\n",
    "    title TEXT PRIMARY KEY,\n",
    "    Year Released INTEGER NOT NULL,\n",
    "    rating TEXT NOT Null,\n",
    "    duration TEXT NOT NULL,\n",
    "    Genre TEXT NOT NULL,\n",
    "    description TEXT NOT NULL)\n",
    "   ;\"\"\")"
   ]
  },
  {
   "cell_type": "code",
   "execution_count": null,
   "id": "b070e34d",
   "metadata": {
    "vscode": {
     "languageId": "sql"
    }
   },
   "outputs": [],
   "source": [
    "#insert data to nexflix table\n",
    "df2.to_sql(\"netflix\", conn, if_exists=\"replace\", index=False)"
   ]
  },
  {
   "cell_type": "code",
   "execution_count": null,
   "id": "17a03658",
   "metadata": {
    "vscode": {
     "languageId": "sql"
    }
   },
   "outputs": [],
   "source": [
    "#verify data was inserted\n",
    "print(\"netflix table:\\n\")\n",
    "print(pd.read_sql_query(\"SELECT * FROM netflix\", conn))"
   ]
  },
  {
   "cell_type": "code",
   "execution_count": null,
   "id": "007c849c",
   "metadata": {
    "vscode": {
     "languageId": "sql"
    }
   },
   "outputs": [],
   "source": [
    "def query(query: str):\n",
    "    return pd.read_sql(query, conn)"
   ]
  },
  {
   "cell_type": "code",
   "execution_count": null,
   "id": "0bbf6425",
   "metadata": {
    "vscode": {
     "languageId": "sql"
    }
   },
   "outputs": [],
   "source": [
    "all_ratings = \"\"\" SELECT * FROM ratings\n",
    "    LIMIT 5;\"\"\""
   ]
  },
  {
   "cell_type": "code",
   "execution_count": null,
   "id": "128767e3",
   "metadata": {
    "vscode": {
     "languageId": "sql"
    }
   },
   "outputs": [],
   "source": [
    "query(all_ratings)"
   ]
  },
  {
   "cell_type": "code",
   "execution_count": null,
   "id": "b1de430e",
   "metadata": {
    "vscode": {
     "languageId": "sql"
    }
   },
   "outputs": [],
   "source": [
    "all_netflix = \"\"\"SELECT * FROM netflix\n",
    "    LIMIT 5;\"\"\""
   ]
  },
  {
   "cell_type": "code",
   "execution_count": null,
   "id": "0a268221",
   "metadata": {
    "vscode": {
     "languageId": "sql"
    }
   },
   "outputs": [],
   "source": [
    "query(all_netflix)"
   ]
  },
  {
   "cell_type": "markdown",
   "id": "bac7492a",
   "metadata": {
    "vscode": {
     "languageId": "sql"
    }
   },
   "source": [
    "#joining ratings table and netflix table"
   ]
  },
  {
   "cell_type": "code",
   "execution_count": null,
   "id": "f029c362",
   "metadata": {
    "vscode": {
     "languageId": "sql"
    }
   },
   "outputs": [],
   "source": [
    "joined_tables = \"\"\"SELECT *\n",
    "                FROM ratings\n",
    "                LEFT JOIN netflix\n",
    "                on ratings.Title = netflix.Title\n",
    "                LIMIT 5;\n",
    "                \"\"\""
   ]
  },
  {
   "cell_type": "code",
   "execution_count": null,
   "id": "65c64064",
   "metadata": {
    "vscode": {
     "languageId": "sql"
    }
   },
   "outputs": [],
   "source": [
    "query(joined_tables)\n"
   ]
  },
  {
   "cell_type": "markdown",
   "id": "32afe41a",
   "metadata": {
    "vscode": {
     "languageId": "sql"
    }
   },
   "source": [
    "#df2.head()"
   ]
  },
  {
   "cell_type": "markdown",
   "id": "d748643b",
   "metadata": {
    "vscode": {
     "languageId": "sql"
    }
   },
   "source": [
    "#conn = sqlite3.connect('df2')\n",
    "#query = \"SELECT * FROM joined_tables;\"\n",
    "#df = pd.read_sql_query(query, conn)"
   ]
  },
  {
   "cell_type": "code",
   "execution_count": null,
   "id": "46aa43c8",
   "metadata": {
    "vscode": {
     "languageId": "sql"
    }
   },
   "outputs": [],
   "source": [
    "#import matplot"
   ]
  },
  {
   "cell_type": "code",
   "execution_count": null,
   "id": "8ed2c85e",
   "metadata": {
    "vscode": {
     "languageId": "sql"
    }
   },
   "outputs": [],
   "source": [
    "best_director = pd.read_sql_query"
   ]
  },
  {
   "cell_type": "code",
   "execution_count": null,
   "id": "aa7f72ef",
   "metadata": {
    "vscode": {
     "languageId": "sql"
    }
   },
   "outputs": [],
   "source": [
    "best_director = \"\"\" SELECT Title, director, Year_Released \n",
    "    FROM joined_tables\n",
    "    WHERE director IS NOT NULL\n",
    "    ORDER BY\n",
    "        Title,\n",
    "        director ASC,\n",
    "        Year_Released DESC\n",
    "    LIMIT 10;\n",
    "    \"\"\"\n"
   ]
  },
  {
   "cell_type": "code",
   "execution_count": null,
   "id": "8b1014a3",
   "metadata": {
    "vscode": {
     "languageId": "sql"
    }
   },
   "outputs": [],
   "source": [
    "                query(best_director)"
   ]
  },
  {
   "cell_type": "code",
   "execution_count": null,
   "id": "b74e60e3",
   "metadata": {
    "vscode": {
     "languageId": "sql"
    }
   },
   "outputs": [],
   "source": []
  },
  {
   "cell_type": "code",
   "execution_count": null,
   "id": "279f9367",
   "metadata": {
    "vscode": {
     "languageId": "sql"
    }
   },
   "outputs": [],
   "source": []
  },
  {
   "cell_type": "code",
   "execution_count": null,
   "id": "9a14c150",
   "metadata": {
    "vscode": {
     "languageId": "sql"
    }
   },
   "outputs": [],
   "source": [
    "#SELECT *\n",
    "#FROM TABLE\n",
    "#WHERE Title"
   ]
  },
  {
   "cell_type": "markdown",
   "id": "7b8458f3",
   "metadata": {},
   "source": [
    "Visualizations"
   ]
  },
  {
   "cell_type": "code",
   "execution_count": null,
   "id": "17986580",
   "metadata": {
    "vscode": {
     "languageId": "sql"
    }
   },
   "outputs": [],
   "source": []
  }
 ],
 "metadata": {
  "kernelspec": {
   "display_name": "venv",
   "language": "python",
   "name": "python3"
  },
  "language_info": {
   "codemirror_mode": {
    "name": "ipython",
    "version": 3
   },
   "file_extension": ".py",
   "mimetype": "text/x-python",
   "name": "python",
   "nbconvert_exporter": "python",
   "pygments_lexer": "ipython3",
   "version": "3.13.2"
  }
 },
 "nbformat": 4,
 "nbformat_minor": 5
}
