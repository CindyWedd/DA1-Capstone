{
 "cells": [
  {
   "cell_type": "markdown",
   "id": "736018c6",
   "metadata": {},
   "source": [
    "Netflix Shows and Movies Analysis"
   ]
  },
  {
   "cell_type": "markdown",
   "id": "68a97612",
   "metadata": {
    "vscode": {
     "languageId": "html"
    }
   },
   "source": [
    "Libraries:"
   ]
  },
  {
   "cell_type": "code",
   "execution_count": 1,
   "id": "269fccf3",
   "metadata": {},
   "outputs": [],
   "source": [
    "import pandas as pd\n",
    "import sqlite3\n",
    "import matplotlib.pyplot as plt\n",
    "import seaborn as sns\n",
    "from wordcloud import WordCloud"
   ]
  },
  {
   "cell_type": "markdown",
   "id": "775d4e19",
   "metadata": {},
   "source": [
    "Import Data:"
   ]
  },
  {
   "cell_type": "code",
   "execution_count": 2,
   "id": "9f87c258",
   "metadata": {},
   "outputs": [
    {
     "data": {
      "text/html": [
       "<div>\n",
       "<style scoped>\n",
       "    .dataframe tbody tr th:only-of-type {\n",
       "        vertical-align: middle;\n",
       "    }\n",
       "\n",
       "    .dataframe tbody tr th {\n",
       "        vertical-align: top;\n",
       "    }\n",
       "\n",
       "    .dataframe thead th {\n",
       "        text-align: right;\n",
       "    }\n",
       "</style>\n",
       "<table border=\"1\" class=\"dataframe\">\n",
       "  <thead>\n",
       "    <tr style=\"text-align: right;\">\n",
       "      <th></th>\n",
       "      <th>title</th>\n",
       "      <th>type</th>\n",
       "      <th>genres</th>\n",
       "      <th>releaseYear</th>\n",
       "      <th>imdbId</th>\n",
       "      <th>imdbAverageRating</th>\n",
       "      <th>imdbNumVotes</th>\n",
       "      <th>availableCountries</th>\n",
       "    </tr>\n",
       "  </thead>\n",
       "  <tbody>\n",
       "    <tr>\n",
       "      <th>0</th>\n",
       "      <td>Ariel</td>\n",
       "      <td>movie</td>\n",
       "      <td>Comedy, Crime, Drama</td>\n",
       "      <td>1988.0</td>\n",
       "      <td>tt0094675</td>\n",
       "      <td>7.4</td>\n",
       "      <td>9237.0</td>\n",
       "      <td>NaN</td>\n",
       "    </tr>\n",
       "    <tr>\n",
       "      <th>1</th>\n",
       "      <td>Shadows in Paradise</td>\n",
       "      <td>movie</td>\n",
       "      <td>Comedy, Drama, Music</td>\n",
       "      <td>1986.0</td>\n",
       "      <td>tt0092149</td>\n",
       "      <td>7.4</td>\n",
       "      <td>8069.0</td>\n",
       "      <td>NaN</td>\n",
       "    </tr>\n",
       "    <tr>\n",
       "      <th>2</th>\n",
       "      <td>Forrest Gump</td>\n",
       "      <td>movie</td>\n",
       "      <td>Drama, Romance</td>\n",
       "      <td>1994.0</td>\n",
       "      <td>tt0109830</td>\n",
       "      <td>8.8</td>\n",
       "      <td>2390861.0</td>\n",
       "      <td>NaN</td>\n",
       "    </tr>\n",
       "    <tr>\n",
       "      <th>3</th>\n",
       "      <td>American Beauty</td>\n",
       "      <td>movie</td>\n",
       "      <td>Drama</td>\n",
       "      <td>1999.0</td>\n",
       "      <td>tt0169547</td>\n",
       "      <td>8.3</td>\n",
       "      <td>1252487.0</td>\n",
       "      <td>NaN</td>\n",
       "    </tr>\n",
       "    <tr>\n",
       "      <th>4</th>\n",
       "      <td>The Fifth Element</td>\n",
       "      <td>movie</td>\n",
       "      <td>Action, Adventure, Sci-Fi</td>\n",
       "      <td>1997.0</td>\n",
       "      <td>tt0119116</td>\n",
       "      <td>7.6</td>\n",
       "      <td>528882.0</td>\n",
       "      <td>NaN</td>\n",
       "    </tr>\n",
       "    <tr>\n",
       "      <th>...</th>\n",
       "      <td>...</td>\n",
       "      <td>...</td>\n",
       "      <td>...</td>\n",
       "      <td>...</td>\n",
       "      <td>...</td>\n",
       "      <td>...</td>\n",
       "      <td>...</td>\n",
       "      <td>...</td>\n",
       "    </tr>\n",
       "    <tr>\n",
       "      <th>21905</th>\n",
       "      <td>Cheat: Unfinished Business</td>\n",
       "      <td>tv</td>\n",
       "      <td>Reality-TV</td>\n",
       "      <td>2025.0</td>\n",
       "      <td>tt32249973</td>\n",
       "      <td>4.9</td>\n",
       "      <td>233.0</td>\n",
       "      <td>NaN</td>\n",
       "    </tr>\n",
       "    <tr>\n",
       "      <th>21906</th>\n",
       "      <td>Cold Case: The Tylenol Murders</td>\n",
       "      <td>tv</td>\n",
       "      <td>Crime, Documentary</td>\n",
       "      <td>2025.0</td>\n",
       "      <td>tt36614653</td>\n",
       "      <td>6.5</td>\n",
       "      <td>2167.0</td>\n",
       "      <td>NaN</td>\n",
       "    </tr>\n",
       "    <tr>\n",
       "      <th>21907</th>\n",
       "      <td>NaN</td>\n",
       "      <td>tv</td>\n",
       "      <td>Animation, Crime, Mystery</td>\n",
       "      <td>1996.0</td>\n",
       "      <td>NaN</td>\n",
       "      <td>NaN</td>\n",
       "      <td>NaN</td>\n",
       "      <td>NaN</td>\n",
       "    </tr>\n",
       "    <tr>\n",
       "      <th>21908</th>\n",
       "      <td>NaN</td>\n",
       "      <td>tv</td>\n",
       "      <td>NaN</td>\n",
       "      <td>2014.0</td>\n",
       "      <td>NaN</td>\n",
       "      <td>NaN</td>\n",
       "      <td>NaN</td>\n",
       "      <td>NaN</td>\n",
       "    </tr>\n",
       "    <tr>\n",
       "      <th>21909</th>\n",
       "      <td>Entrapped</td>\n",
       "      <td>tv</td>\n",
       "      <td>Crime, Drama, Mystery</td>\n",
       "      <td>2022.0</td>\n",
       "      <td>tt21964626</td>\n",
       "      <td>7.0</td>\n",
       "      <td>4061.0</td>\n",
       "      <td>NaN</td>\n",
       "    </tr>\n",
       "  </tbody>\n",
       "</table>\n",
       "<p>21910 rows × 8 columns</p>\n",
       "</div>"
      ],
      "text/plain": [
       "                                title   type                     genres  \\\n",
       "0                               Ariel  movie       Comedy, Crime, Drama   \n",
       "1                 Shadows in Paradise  movie       Comedy, Drama, Music   \n",
       "2                        Forrest Gump  movie             Drama, Romance   \n",
       "3                     American Beauty  movie                      Drama   \n",
       "4                   The Fifth Element  movie  Action, Adventure, Sci-Fi   \n",
       "...                               ...    ...                        ...   \n",
       "21905      Cheat: Unfinished Business     tv                 Reality-TV   \n",
       "21906  Cold Case: The Tylenol Murders     tv         Crime, Documentary   \n",
       "21907                             NaN     tv  Animation, Crime, Mystery   \n",
       "21908                             NaN     tv                        NaN   \n",
       "21909                       Entrapped     tv      Crime, Drama, Mystery   \n",
       "\n",
       "       releaseYear      imdbId  imdbAverageRating  imdbNumVotes  \\\n",
       "0           1988.0   tt0094675                7.4        9237.0   \n",
       "1           1986.0   tt0092149                7.4        8069.0   \n",
       "2           1994.0   tt0109830                8.8     2390861.0   \n",
       "3           1999.0   tt0169547                8.3     1252487.0   \n",
       "4           1997.0   tt0119116                7.6      528882.0   \n",
       "...            ...         ...                ...           ...   \n",
       "21905       2025.0  tt32249973                4.9         233.0   \n",
       "21906       2025.0  tt36614653                6.5        2167.0   \n",
       "21907       1996.0         NaN                NaN           NaN   \n",
       "21908       2014.0         NaN                NaN           NaN   \n",
       "21909       2022.0  tt21964626                7.0        4061.0   \n",
       "\n",
       "      availableCountries  \n",
       "0                    NaN  \n",
       "1                    NaN  \n",
       "2                    NaN  \n",
       "3                    NaN  \n",
       "4                    NaN  \n",
       "...                  ...  \n",
       "21905                NaN  \n",
       "21906                NaN  \n",
       "21907                NaN  \n",
       "21908                NaN  \n",
       "21909                NaN  \n",
       "\n",
       "[21910 rows x 8 columns]"
      ]
     },
     "execution_count": 2,
     "metadata": {},
     "output_type": "execute_result"
    }
   ],
   "source": [
    "First_imdb_data = pd.read_csv('./ratingsData.csv')\n",
    "First_imdb_data   \n"
   ]
  },
  {
   "cell_type": "code",
   "execution_count": 3,
   "id": "24fcdccf",
   "metadata": {},
   "outputs": [],
   "source": [
    "df = pd.DataFrame(First_imdb_data)"
   ]
  },
  {
   "cell_type": "code",
   "execution_count": 10,
   "id": "c7c558cf",
   "metadata": {},
   "outputs": [],
   "source": [
    "df['releaseYear'] = df['releaseYear'].astype('Int64')"
   ]
  },
  {
   "cell_type": "code",
   "execution_count": 11,
   "id": "f1ecda2d",
   "metadata": {},
   "outputs": [
    {
     "name": "stdout",
     "output_type": "stream",
     "text": [
      "                 title   type                     genres  releaseYear  \\\n",
      "0                Ariel  movie       Comedy, Crime, Drama         1988   \n",
      "1  Shadows in Paradise  movie       Comedy, Drama, Music         1986   \n",
      "2         Forrest Gump  movie             Drama, Romance         1994   \n",
      "3      American Beauty  movie                      Drama         1999   \n",
      "4    The Fifth Element  movie  Action, Adventure, Sci-Fi         1997   \n",
      "\n",
      "      imdbId  imdbAverageRating  imdbNumVotes availableCountries  \n",
      "0  tt0094675                7.4        9237.0                NaN  \n",
      "1  tt0092149                7.4        8069.0                NaN  \n",
      "2  tt0109830                8.8     2390861.0                NaN  \n",
      "3  tt0169547                8.3     1252487.0                NaN  \n",
      "4  tt0119116                7.6      528882.0                NaN  \n"
     ]
    }
   ],
   "source": [
    "print(df.head())"
   ]
  },
  {
   "cell_type": "code",
   "execution_count": 12,
   "id": "87e62c34",
   "metadata": {},
   "outputs": [
    {
     "name": "stdout",
     "output_type": "stream",
     "text": [
      "                                title type                     genres  \\\n",
      "21905      Cheat: Unfinished Business   tv                 Reality-TV   \n",
      "21906  Cold Case: The Tylenol Murders   tv         Crime, Documentary   \n",
      "21907                             NaN   tv  Animation, Crime, Mystery   \n",
      "21908                             NaN   tv                        NaN   \n",
      "21909                       Entrapped   tv      Crime, Drama, Mystery   \n",
      "\n",
      "       releaseYear      imdbId  imdbAverageRating  imdbNumVotes  \\\n",
      "21905         2025  tt32249973                4.9         233.0   \n",
      "21906         2025  tt36614653                6.5        2167.0   \n",
      "21907         1996         NaN                NaN           NaN   \n",
      "21908         2014         NaN                NaN           NaN   \n",
      "21909         2022  tt21964626                7.0        4061.0   \n",
      "\n",
      "      availableCountries  \n",
      "21905                NaN  \n",
      "21906                NaN  \n",
      "21907                NaN  \n",
      "21908                NaN  \n",
      "21909                NaN  \n"
     ]
    }
   ],
   "source": [
    "print(df.tail())"
   ]
  },
  {
   "cell_type": "code",
   "execution_count": 6,
   "id": "aedb94b1",
   "metadata": {},
   "outputs": [
    {
     "name": "stdout",
     "output_type": "stream",
     "text": [
      "<class 'pandas.core.frame.DataFrame'>\n",
      "RangeIndex: 21910 entries, 0 to 21909\n",
      "Data columns (total 8 columns):\n",
      " #   Column              Non-Null Count  Dtype  \n",
      "---  ------              --------------  -----  \n",
      " 0   title               21182 non-null  object \n",
      " 1   type                21910 non-null  object \n",
      " 2   genres              21541 non-null  object \n",
      " 3   releaseYear         21871 non-null  float64\n",
      " 4   imdbId              20274 non-null  object \n",
      " 5   imdbAverageRating   20096 non-null  float64\n",
      " 6   imdbNumVotes        20096 non-null  float64\n",
      " 7   availableCountries  154 non-null    object \n",
      "dtypes: float64(3), object(5)\n",
      "memory usage: 1.3+ MB\n"
     ]
    }
   ],
   "source": [
    "df.info()"
   ]
  },
  {
   "cell_type": "code",
   "execution_count": 7,
   "id": "b2e53a3d",
   "metadata": {},
   "outputs": [
    {
     "data": {
      "text/plain": [
       "<bound method NDFrame.describe of                                 title   type                     genres  \\\n",
       "0                               Ariel  movie       Comedy, Crime, Drama   \n",
       "1                 Shadows in Paradise  movie       Comedy, Drama, Music   \n",
       "2                        Forrest Gump  movie             Drama, Romance   \n",
       "3                     American Beauty  movie                      Drama   \n",
       "4                   The Fifth Element  movie  Action, Adventure, Sci-Fi   \n",
       "...                               ...    ...                        ...   \n",
       "21905      Cheat: Unfinished Business     tv                 Reality-TV   \n",
       "21906  Cold Case: The Tylenol Murders     tv         Crime, Documentary   \n",
       "21907                             NaN     tv  Animation, Crime, Mystery   \n",
       "21908                             NaN     tv                        NaN   \n",
       "21909                       Entrapped     tv      Crime, Drama, Mystery   \n",
       "\n",
       "       releaseYear      imdbId  imdbAverageRating  imdbNumVotes  \\\n",
       "0           1988.0   tt0094675                7.4        9237.0   \n",
       "1           1986.0   tt0092149                7.4        8069.0   \n",
       "2           1994.0   tt0109830                8.8     2390861.0   \n",
       "3           1999.0   tt0169547                8.3     1252487.0   \n",
       "4           1997.0   tt0119116                7.6      528882.0   \n",
       "...            ...         ...                ...           ...   \n",
       "21905       2025.0  tt32249973                4.9         233.0   \n",
       "21906       2025.0  tt36614653                6.5        2167.0   \n",
       "21907       1996.0         NaN                NaN           NaN   \n",
       "21908       2014.0         NaN                NaN           NaN   \n",
       "21909       2022.0  tt21964626                7.0        4061.0   \n",
       "\n",
       "      availableCountries  \n",
       "0                    NaN  \n",
       "1                    NaN  \n",
       "2                    NaN  \n",
       "3                    NaN  \n",
       "4                    NaN  \n",
       "...                  ...  \n",
       "21905                NaN  \n",
       "21906                NaN  \n",
       "21907                NaN  \n",
       "21908                NaN  \n",
       "21909                NaN  \n",
       "\n",
       "[21910 rows x 8 columns]>"
      ]
     },
     "execution_count": 7,
     "metadata": {},
     "output_type": "execute_result"
    }
   ],
   "source": [
    "df.describe"
   ]
  },
  {
   "cell_type": "markdown",
   "id": "17fdbddb",
   "metadata": {},
   "source": [
    "# Count the NaN values in DataFrame"
   ]
  },
  {
   "cell_type": "code",
   "execution_count": 15,
   "id": "80a85e20",
   "metadata": {},
   "outputs": [
    {
     "name": "stdout",
     "output_type": "stream",
     "text": [
      "title                   728\n",
      "type                      0\n",
      "genres                  369\n",
      "releaseYear              39\n",
      "imdbId                 1636\n",
      "imdbAverageRating      1814\n",
      "imdbNumVotes           1814\n",
      "availableCountries    21756\n",
      "dtype: int64\n"
     ]
    }
   ],
   "source": [
    "print(df.isna().sum())"
   ]
  },
  {
   "cell_type": "code",
   "execution_count": 16,
   "id": "626990ce",
   "metadata": {},
   "outputs": [],
   "source": [
    "##Clean Data 1 - IMDB\n",
    "#remove select columns\n",
    "clean_imdb_data = df.drop(columns=[\"availableCountries\", \"imdbNumVotes\", \"imdbId\"\n",
    "])\n"
   ]
  },
  {
   "cell_type": "code",
   "execution_count": 17,
   "id": "b9f2ca0a",
   "metadata": {},
   "outputs": [],
   "source": [
    "#consistent column names\n",
    "clean_imdb_data.rename(columns={'releaseYear': 'Year Released', 'imdbAverageRating': 'IMDB Score'}, inplace=True)\n",
    "\n",
    "#clean_imdb_data"
   ]
  },
  {
   "cell_type": "code",
   "execution_count": 20,
   "id": "564cc8e7",
   "metadata": {},
   "outputs": [],
   "source": [
    "df = df.dropna().reset_index(drop=True)"
   ]
  },
  {
   "cell_type": "code",
   "execution_count": 21,
   "id": "09c6753f",
   "metadata": {},
   "outputs": [
    {
     "name": "stdout",
     "output_type": "stream",
     "text": [
      "                                                 title   type  \\\n",
      "0                                  Like Stars on Earth  movie   \n",
      "1                              Jaane Tu... Ya Jaane Na  movie   \n",
      "2                    Lagaan: Once Upon a Time in India  movie   \n",
      "3                               Querô: A Damned Report  movie   \n",
      "4               Captain Underpants: Epic Choice-o-Rama  movie   \n",
      "..                                                 ...    ...   \n",
      "99   The Woman in the Septic Tank 3: The Real Untol...     tv   \n",
      "100                                       Trivia Quest     tv   \n",
      "101                                       Battle Kitty     tv   \n",
      "102                                      Sunshine Eyes     tv   \n",
      "103                  Das Boot - Die komplette TV-Serie     tv   \n",
      "\n",
      "                           genres  releaseYear      imdbId  imdbAverageRating  \\\n",
      "0                   Drama, Family       2007.0   tt0986264                8.3   \n",
      "1          Comedy, Drama, Romance       2008.0   tt0473367                7.4   \n",
      "2           Drama, Musical, Sport       2001.0   tt0169102                8.1   \n",
      "3                           Drama       2007.0   tt0945383                6.8   \n",
      "4    Action, Adventure, Animation       2020.0  tt11604750                5.8   \n",
      "..                            ...          ...         ...                ...   \n",
      "99                Comedy, Romance       2019.0  tt10573750                7.1   \n",
      "100  Adventure, Animation, Family       2022.0  tt18393972                5.7   \n",
      "101  Action, Adventure, Animation       2022.0  tt10050740                6.1   \n",
      "102                         Drama       2023.0  tt16026154                6.9   \n",
      "103                    Drama, War       1987.0  tt30970892                8.9   \n",
      "\n",
      "     imdbNumVotes                                 availableCountries  \n",
      "0        219524.0                                                 TZ  \n",
      "1         28977.0                                                 TZ  \n",
      "2        124775.0                                                 TZ  \n",
      "3           436.0                                             BR, PT  \n",
      "4           205.0  AD, AE, AG, AL, AO, AR, AT, AU, AZ, BA, BB, BE...  \n",
      "..            ...                                                ...  \n",
      "99           73.0                                                 PH  \n",
      "100         282.0  AD, AG, AO, AR, AT, AU, AZ, BA, BB, BG, BM, BO...  \n",
      "101         373.0  AD, AE, AG, AL, AO, AR, AT, AU, AZ, BA, BB, BE...  \n",
      "102          12.0                                         AT, DE, LI  \n",
      "103         256.0                                     AT, CH, DE, LI  \n",
      "\n",
      "[104 rows x 8 columns]\n"
     ]
    }
   ],
   "source": [
    "print(df)"
   ]
  },
  {
   "cell_type": "code",
   "execution_count": 24,
   "id": "aa13763b",
   "metadata": {},
   "outputs": [
    {
     "data": {
      "text/plain": [
       "title                  object\n",
       "type                   object\n",
       "genres                 object\n",
       "releaseYear           float64\n",
       "imdbId                 object\n",
       "imdbAverageRating     float64\n",
       "imdbNumVotes          float64\n",
       "availableCountries     object\n",
       "dtype: object"
      ]
     },
     "execution_count": 24,
     "metadata": {},
     "output_type": "execute_result"
    }
   ],
   "source": [
    "df.dtypes"
   ]
  },
  {
   "cell_type": "code",
   "execution_count": 26,
   "id": "22074b46",
   "metadata": {},
   "outputs": [
    {
     "data": {
      "text/html": [
       "<div>\n",
       "<style scoped>\n",
       "    .dataframe tbody tr th:only-of-type {\n",
       "        vertical-align: middle;\n",
       "    }\n",
       "\n",
       "    .dataframe tbody tr th {\n",
       "        vertical-align: top;\n",
       "    }\n",
       "\n",
       "    .dataframe thead th {\n",
       "        text-align: right;\n",
       "    }\n",
       "</style>\n",
       "<table border=\"1\" class=\"dataframe\">\n",
       "  <thead>\n",
       "    <tr style=\"text-align: right;\">\n",
       "      <th></th>\n",
       "      <th>title</th>\n",
       "      <th>type</th>\n",
       "      <th>genres</th>\n",
       "      <th>releaseYear</th>\n",
       "      <th>imdbId</th>\n",
       "      <th>imdbAverageRating</th>\n",
       "      <th>imdbNumVotes</th>\n",
       "      <th>availableCountries</th>\n",
       "    </tr>\n",
       "  </thead>\n",
       "  <tbody>\n",
       "    <tr>\n",
       "      <th>94</th>\n",
       "      <td>Çember</td>\n",
       "      <td>tv</td>\n",
       "      <td>Action, Adventure, Crime</td>\n",
       "      <td>2017.0</td>\n",
       "      <td>tt7130992</td>\n",
       "      <td>7.2</td>\n",
       "      <td>1015.0</td>\n",
       "      <td>TR</td>\n",
       "    </tr>\n",
       "    <tr>\n",
       "      <th>13</th>\n",
       "      <td>Zwei Tage Hoffnung</td>\n",
       "      <td>movie</td>\n",
       "      <td>Drama</td>\n",
       "      <td>2003.0</td>\n",
       "      <td>tt0367263</td>\n",
       "      <td>6.1</td>\n",
       "      <td>147.0</td>\n",
       "      <td>AT, CH, DE</td>\n",
       "    </tr>\n",
       "    <tr>\n",
       "      <th>84</th>\n",
       "      <td>Zbrodnia</td>\n",
       "      <td>tv</td>\n",
       "      <td>Action, Crime</td>\n",
       "      <td>2014.0</td>\n",
       "      <td>tt4173216</td>\n",
       "      <td>6.3</td>\n",
       "      <td>869.0</td>\n",
       "      <td>AE, AL, AO, AR, AT, AU, AZ, BA, BB, BE, BG, BH...</td>\n",
       "    </tr>\n",
       "    <tr>\n",
       "      <th>31</th>\n",
       "      <td>Women at War</td>\n",
       "      <td>movie</td>\n",
       "      <td>Documentary, History</td>\n",
       "      <td>2014.0</td>\n",
       "      <td>tt4180082</td>\n",
       "      <td>7.9</td>\n",
       "      <td>158.0</td>\n",
       "      <td>BE, CH, FR, GF, LU, MC, NL, PF</td>\n",
       "    </tr>\n",
       "    <tr>\n",
       "      <th>21</th>\n",
       "      <td>Win It All</td>\n",
       "      <td>movie</td>\n",
       "      <td>Comedy</td>\n",
       "      <td>2017.0</td>\n",
       "      <td>tt3155328</td>\n",
       "      <td>6.2</td>\n",
       "      <td>10439.0</td>\n",
       "      <td>TZ</td>\n",
       "    </tr>\n",
       "    <tr>\n",
       "      <th>...</th>\n",
       "      <td>...</td>\n",
       "      <td>...</td>\n",
       "      <td>...</td>\n",
       "      <td>...</td>\n",
       "      <td>...</td>\n",
       "      <td>...</td>\n",
       "      <td>...</td>\n",
       "      <td>...</td>\n",
       "    </tr>\n",
       "    <tr>\n",
       "      <th>48</th>\n",
       "      <td>Amsterdam to Anatolia</td>\n",
       "      <td>movie</td>\n",
       "      <td>Short</td>\n",
       "      <td>2019.0</td>\n",
       "      <td>tt10350570</td>\n",
       "      <td>4.6</td>\n",
       "      <td>146.0</td>\n",
       "      <td>AD, AE, AG, AL, AO, AR, AT, AU, AZ, BA, BB, BE...</td>\n",
       "    </tr>\n",
       "    <tr>\n",
       "      <th>28</th>\n",
       "      <td>Alaska Is a Drag</td>\n",
       "      <td>movie</td>\n",
       "      <td>Drama</td>\n",
       "      <td>2017.0</td>\n",
       "      <td>tt4341390</td>\n",
       "      <td>6.6</td>\n",
       "      <td>562.0</td>\n",
       "      <td>FJ</td>\n",
       "    </tr>\n",
       "    <tr>\n",
       "      <th>12</th>\n",
       "      <td>A Complicated Story</td>\n",
       "      <td>movie</td>\n",
       "      <td>Drama</td>\n",
       "      <td>2013.0</td>\n",
       "      <td>tt3503902</td>\n",
       "      <td>5.4</td>\n",
       "      <td>129.0</td>\n",
       "      <td>AU, HK, ID, IN, JP, KR, MY, NZ, PH, PK, SG</td>\n",
       "    </tr>\n",
       "    <tr>\n",
       "      <th>16</th>\n",
       "      <td>7/24</td>\n",
       "      <td>movie</td>\n",
       "      <td>Drama, Romance</td>\n",
       "      <td>2014.0</td>\n",
       "      <td>tt4277296</td>\n",
       "      <td>6.6</td>\n",
       "      <td>125.0</td>\n",
       "      <td>ID, TH</td>\n",
       "    </tr>\n",
       "    <tr>\n",
       "      <th>26</th>\n",
       "      <td>40 Hari Bangkitnya Pocong</td>\n",
       "      <td>movie</td>\n",
       "      <td>Horror</td>\n",
       "      <td>2008.0</td>\n",
       "      <td>tt1190088</td>\n",
       "      <td>4.9</td>\n",
       "      <td>69.0</td>\n",
       "      <td>ID</td>\n",
       "    </tr>\n",
       "  </tbody>\n",
       "</table>\n",
       "<p>104 rows × 8 columns</p>\n",
       "</div>"
      ],
      "text/plain": [
       "                        title   type                    genres  releaseYear  \\\n",
       "94                     Çember     tv  Action, Adventure, Crime       2017.0   \n",
       "13         Zwei Tage Hoffnung  movie                     Drama       2003.0   \n",
       "84                   Zbrodnia     tv             Action, Crime       2014.0   \n",
       "31               Women at War  movie      Documentary, History       2014.0   \n",
       "21                 Win It All  movie                    Comedy       2017.0   \n",
       "..                        ...    ...                       ...          ...   \n",
       "48      Amsterdam to Anatolia  movie                     Short       2019.0   \n",
       "28           Alaska Is a Drag  movie                     Drama       2017.0   \n",
       "12        A Complicated Story  movie                     Drama       2013.0   \n",
       "16                       7/24  movie            Drama, Romance       2014.0   \n",
       "26  40 Hari Bangkitnya Pocong  movie                    Horror       2008.0   \n",
       "\n",
       "        imdbId  imdbAverageRating  imdbNumVotes  \\\n",
       "94   tt7130992                7.2        1015.0   \n",
       "13   tt0367263                6.1         147.0   \n",
       "84   tt4173216                6.3         869.0   \n",
       "31   tt4180082                7.9         158.0   \n",
       "21   tt3155328                6.2       10439.0   \n",
       "..         ...                ...           ...   \n",
       "48  tt10350570                4.6         146.0   \n",
       "28   tt4341390                6.6         562.0   \n",
       "12   tt3503902                5.4         129.0   \n",
       "16   tt4277296                6.6         125.0   \n",
       "26   tt1190088                4.9          69.0   \n",
       "\n",
       "                                   availableCountries  \n",
       "94                                                 TR  \n",
       "13                                         AT, CH, DE  \n",
       "84  AE, AL, AO, AR, AT, AU, AZ, BA, BB, BE, BG, BH...  \n",
       "31                     BE, CH, FR, GF, LU, MC, NL, PF  \n",
       "21                                                 TZ  \n",
       "..                                                ...  \n",
       "48  AD, AE, AG, AL, AO, AR, AT, AU, AZ, BA, BB, BE...  \n",
       "28                                                 FJ  \n",
       "12         AU, HK, ID, IN, JP, KR, MY, NZ, PH, PK, SG  \n",
       "16                                             ID, TH  \n",
       "26                                                 ID  \n",
       "\n",
       "[104 rows x 8 columns]"
      ]
     },
     "execution_count": 26,
     "metadata": {},
     "output_type": "execute_result"
    }
   ],
   "source": [
    "df.sort_values(by='title', ascending=False)"
   ]
  },
  {
   "cell_type": "code",
   "execution_count": 27,
   "id": "4d20fca9",
   "metadata": {},
   "outputs": [],
   "source": [
    "df=df.drop_duplicates(subset='title', keep='first')"
   ]
  },
  {
   "cell_type": "code",
   "execution_count": 28,
   "id": "61c9d0c2",
   "metadata": {},
   "outputs": [
    {
     "data": {
      "text/html": [
       "<div>\n",
       "<style scoped>\n",
       "    .dataframe tbody tr th:only-of-type {\n",
       "        vertical-align: middle;\n",
       "    }\n",
       "\n",
       "    .dataframe tbody tr th {\n",
       "        vertical-align: top;\n",
       "    }\n",
       "\n",
       "    .dataframe thead th {\n",
       "        text-align: right;\n",
       "    }\n",
       "</style>\n",
       "<table border=\"1\" class=\"dataframe\">\n",
       "  <thead>\n",
       "    <tr style=\"text-align: right;\">\n",
       "      <th></th>\n",
       "      <th>title</th>\n",
       "      <th>type</th>\n",
       "      <th>genres</th>\n",
       "      <th>releaseYear</th>\n",
       "      <th>imdbId</th>\n",
       "      <th>imdbAverageRating</th>\n",
       "      <th>imdbNumVotes</th>\n",
       "      <th>availableCountries</th>\n",
       "    </tr>\n",
       "  </thead>\n",
       "  <tbody>\n",
       "    <tr>\n",
       "      <th>0</th>\n",
       "      <td>Like Stars on Earth</td>\n",
       "      <td>movie</td>\n",
       "      <td>Drama, Family</td>\n",
       "      <td>2007.0</td>\n",
       "      <td>tt0986264</td>\n",
       "      <td>8.3</td>\n",
       "      <td>219524.0</td>\n",
       "      <td>TZ</td>\n",
       "    </tr>\n",
       "    <tr>\n",
       "      <th>1</th>\n",
       "      <td>Jaane Tu... Ya Jaane Na</td>\n",
       "      <td>movie</td>\n",
       "      <td>Comedy, Drama, Romance</td>\n",
       "      <td>2008.0</td>\n",
       "      <td>tt0473367</td>\n",
       "      <td>7.4</td>\n",
       "      <td>28977.0</td>\n",
       "      <td>TZ</td>\n",
       "    </tr>\n",
       "    <tr>\n",
       "      <th>2</th>\n",
       "      <td>Lagaan: Once Upon a Time in India</td>\n",
       "      <td>movie</td>\n",
       "      <td>Drama, Musical, Sport</td>\n",
       "      <td>2001.0</td>\n",
       "      <td>tt0169102</td>\n",
       "      <td>8.1</td>\n",
       "      <td>124775.0</td>\n",
       "      <td>TZ</td>\n",
       "    </tr>\n",
       "    <tr>\n",
       "      <th>3</th>\n",
       "      <td>Querô: A Damned Report</td>\n",
       "      <td>movie</td>\n",
       "      <td>Drama</td>\n",
       "      <td>2007.0</td>\n",
       "      <td>tt0945383</td>\n",
       "      <td>6.8</td>\n",
       "      <td>436.0</td>\n",
       "      <td>BR, PT</td>\n",
       "    </tr>\n",
       "    <tr>\n",
       "      <th>4</th>\n",
       "      <td>Captain Underpants: Epic Choice-o-Rama</td>\n",
       "      <td>movie</td>\n",
       "      <td>Action, Adventure, Animation</td>\n",
       "      <td>2020.0</td>\n",
       "      <td>tt11604750</td>\n",
       "      <td>5.8</td>\n",
       "      <td>205.0</td>\n",
       "      <td>AD, AE, AG, AL, AO, AR, AT, AU, AZ, BA, BB, BE...</td>\n",
       "    </tr>\n",
       "    <tr>\n",
       "      <th>...</th>\n",
       "      <td>...</td>\n",
       "      <td>...</td>\n",
       "      <td>...</td>\n",
       "      <td>...</td>\n",
       "      <td>...</td>\n",
       "      <td>...</td>\n",
       "      <td>...</td>\n",
       "      <td>...</td>\n",
       "    </tr>\n",
       "    <tr>\n",
       "      <th>99</th>\n",
       "      <td>The Woman in the Septic Tank 3: The Real Untol...</td>\n",
       "      <td>tv</td>\n",
       "      <td>Comedy, Romance</td>\n",
       "      <td>2019.0</td>\n",
       "      <td>tt10573750</td>\n",
       "      <td>7.1</td>\n",
       "      <td>73.0</td>\n",
       "      <td>PH</td>\n",
       "    </tr>\n",
       "    <tr>\n",
       "      <th>100</th>\n",
       "      <td>Trivia Quest</td>\n",
       "      <td>tv</td>\n",
       "      <td>Adventure, Animation, Family</td>\n",
       "      <td>2022.0</td>\n",
       "      <td>tt18393972</td>\n",
       "      <td>5.7</td>\n",
       "      <td>282.0</td>\n",
       "      <td>AD, AG, AO, AR, AT, AU, AZ, BA, BB, BG, BM, BO...</td>\n",
       "    </tr>\n",
       "    <tr>\n",
       "      <th>101</th>\n",
       "      <td>Battle Kitty</td>\n",
       "      <td>tv</td>\n",
       "      <td>Action, Adventure, Animation</td>\n",
       "      <td>2022.0</td>\n",
       "      <td>tt10050740</td>\n",
       "      <td>6.1</td>\n",
       "      <td>373.0</td>\n",
       "      <td>AD, AE, AG, AL, AO, AR, AT, AU, AZ, BA, BB, BE...</td>\n",
       "    </tr>\n",
       "    <tr>\n",
       "      <th>102</th>\n",
       "      <td>Sunshine Eyes</td>\n",
       "      <td>tv</td>\n",
       "      <td>Drama</td>\n",
       "      <td>2023.0</td>\n",
       "      <td>tt16026154</td>\n",
       "      <td>6.9</td>\n",
       "      <td>12.0</td>\n",
       "      <td>AT, DE, LI</td>\n",
       "    </tr>\n",
       "    <tr>\n",
       "      <th>103</th>\n",
       "      <td>Das Boot - Die komplette TV-Serie</td>\n",
       "      <td>tv</td>\n",
       "      <td>Drama, War</td>\n",
       "      <td>1987.0</td>\n",
       "      <td>tt30970892</td>\n",
       "      <td>8.9</td>\n",
       "      <td>256.0</td>\n",
       "      <td>AT, CH, DE, LI</td>\n",
       "    </tr>\n",
       "  </tbody>\n",
       "</table>\n",
       "<p>104 rows × 8 columns</p>\n",
       "</div>"
      ],
      "text/plain": [
       "                                                 title   type  \\\n",
       "0                                  Like Stars on Earth  movie   \n",
       "1                              Jaane Tu... Ya Jaane Na  movie   \n",
       "2                    Lagaan: Once Upon a Time in India  movie   \n",
       "3                               Querô: A Damned Report  movie   \n",
       "4               Captain Underpants: Epic Choice-o-Rama  movie   \n",
       "..                                                 ...    ...   \n",
       "99   The Woman in the Septic Tank 3: The Real Untol...     tv   \n",
       "100                                       Trivia Quest     tv   \n",
       "101                                       Battle Kitty     tv   \n",
       "102                                      Sunshine Eyes     tv   \n",
       "103                  Das Boot - Die komplette TV-Serie     tv   \n",
       "\n",
       "                           genres  releaseYear      imdbId  imdbAverageRating  \\\n",
       "0                   Drama, Family       2007.0   tt0986264                8.3   \n",
       "1          Comedy, Drama, Romance       2008.0   tt0473367                7.4   \n",
       "2           Drama, Musical, Sport       2001.0   tt0169102                8.1   \n",
       "3                           Drama       2007.0   tt0945383                6.8   \n",
       "4    Action, Adventure, Animation       2020.0  tt11604750                5.8   \n",
       "..                            ...          ...         ...                ...   \n",
       "99                Comedy, Romance       2019.0  tt10573750                7.1   \n",
       "100  Adventure, Animation, Family       2022.0  tt18393972                5.7   \n",
       "101  Action, Adventure, Animation       2022.0  tt10050740                6.1   \n",
       "102                         Drama       2023.0  tt16026154                6.9   \n",
       "103                    Drama, War       1987.0  tt30970892                8.9   \n",
       "\n",
       "     imdbNumVotes                                 availableCountries  \n",
       "0        219524.0                                                 TZ  \n",
       "1         28977.0                                                 TZ  \n",
       "2        124775.0                                                 TZ  \n",
       "3           436.0                                             BR, PT  \n",
       "4           205.0  AD, AE, AG, AL, AO, AR, AT, AU, AZ, BA, BB, BE...  \n",
       "..            ...                                                ...  \n",
       "99           73.0                                                 PH  \n",
       "100         282.0  AD, AG, AO, AR, AT, AU, AZ, BA, BB, BG, BM, BO...  \n",
       "101         373.0  AD, AE, AG, AL, AO, AR, AT, AU, AZ, BA, BB, BE...  \n",
       "102          12.0                                         AT, DE, LI  \n",
       "103         256.0                                     AT, CH, DE, LI  \n",
       "\n",
       "[104 rows x 8 columns]"
      ]
     },
     "execution_count": 28,
     "metadata": {},
     "output_type": "execute_result"
    }
   ],
   "source": [
    "df"
   ]
  },
  {
   "cell_type": "markdown",
   "id": "c439d42f",
   "metadata": {},
   "source": [
    "Import Data:"
   ]
  },
  {
   "cell_type": "code",
   "execution_count": null,
   "id": "d602eeef",
   "metadata": {},
   "outputs": [],
   "source": [
    "Second_netflix_data = pd.read_csv('./netflix_titles.csv')\n",
    "Second_netflix_data\n"
   ]
  },
  {
   "cell_type": "markdown",
   "id": "a50b2556",
   "metadata": {},
   "source": [
    "Clean Data\n"
   ]
  },
  {
   "cell_type": "code",
   "execution_count": 113,
   "id": "6e638ce2",
   "metadata": {},
   "outputs": [],
   "source": [
    "clean_imdb_data = First_imdb_data.drop(columns=[\"availableCountries\", \"imdbNumVotes\", \"imdbId\"])\n",
    "clean_imdb_data.rename(columns={'releaseYear': 'Year Released', 'imdbAverageRating': 'IMDB Score'}, inplace=True)\n"
   ]
  },
  {
   "cell_type": "code",
   "execution_count": 114,
   "id": "3cbb3e18",
   "metadata": {},
   "outputs": [],
   "source": [
    "##Clean Data 1 - IMDB\n",
    "#remove select columns\n",
    "clean_imdb_data = First_imdb_data.drop(columns=[\"availableCountries\", \"imdbNumVotes\", \"imdbId\"\n",
    "])\n",
    "#consistent column names\n",
    "clean_imdb_data.rename(columns={'releaseYear': 'Year Released', 'imdbAverageRating': 'IMDB Score'}, inplace=True)\n",
    "\n",
    "#clean_imdb_data"
   ]
  },
  {
   "cell_type": "code",
   "execution_count": 29,
   "id": "18d6a1ba",
   "metadata": {},
   "outputs": [
    {
     "name": "stdout",
     "output_type": "stream",
     "text": [
      "['title', 'type', 'genres', 'Year Released', 'IMDB Score']\n"
     ]
    }
   ],
   "source": [
    "print(clean_imdb_data.columns.tolist())"
   ]
  },
  {
   "cell_type": "code",
   "execution_count": 116,
   "id": "166f660b",
   "metadata": {},
   "outputs": [],
   "source": [
    "##Clean Data 2 - Netflix\n",
    "#remove select columns\n",
    "clean_netflix_data = Second_netflix_data.drop(columns=[\"Unnamed: 0\", \"show_id\", \"cast\", \"country\", \"date_added\", \"director\"\n",
    "])\n",
    "#consistent column names\n",
    "clean_netflix_data.rename(columns={'release_year': 'Year Released', 'listed_in': 'genres'}, inplace=True)\n",
    "#clean_netflix_data"
   ]
  },
  {
   "cell_type": "code",
   "execution_count": null,
   "id": "6ea31025",
   "metadata": {},
   "outputs": [],
   "source": [
    "print(clean_netflix_data.columns.tolist())"
   ]
  },
  {
   "cell_type": "markdown",
   "id": "2ae918c8",
   "metadata": {},
   "source": []
  },
  {
   "cell_type": "markdown",
   "id": "ccbb0e64",
   "metadata": {},
   "source": [
    "#First_imdb_data[['rating', 'duration', 'description']] = (\n",
    "    First_imdb_data[['rating', 'duration', 'description']].fillna('-')\n",
    ")"
   ]
  },
  {
   "cell_type": "markdown",
   "id": "2263d251",
   "metadata": {},
   "source": [
    "#clean_imdb_data = First_imdb_data.copy()\n",
    "clean_imdb_data[['rating', 'duration', 'description']] = (\n",
    "    clean_imdb_data[['rating', 'duration', 'description']].fillna('-')\n",
    ")"
   ]
  },
  {
   "cell_type": "markdown",
   "id": "2eabb3f7",
   "metadata": {},
   "source": [
    "#clean_netflix_data = Second_netflix_data[['rating', 'duration', 'description']] = ()\n",
    "merged_data[['rating', 'duration', 'description']].fillna('-')"
   ]
  },
  {
   "cell_type": "code",
   "execution_count": null,
   "id": "e6476fe0",
   "metadata": {},
   "outputs": [],
   "source": [
    "merged_data = pd.concat([clean_imdb_data, clean_netflix_data])\n",
    "merged_data"
   ]
  },
  {
   "cell_type": "code",
   "execution_count": 119,
   "id": "960354c2",
   "metadata": {},
   "outputs": [],
   "source": [
    "##Remove NaNs"
   ]
  },
  {
   "cell_type": "code",
   "execution_count": 120,
   "id": "37747a61",
   "metadata": {},
   "outputs": [],
   "source": [
    "merged_data[['rating']] = merged_data[['rating']].fillna('-')"
   ]
  },
  {
   "cell_type": "code",
   "execution_count": 121,
   "id": "aa98c78f",
   "metadata": {},
   "outputs": [],
   "source": [
    "merged_data[['IMDB Score']] = merged_data[['IMDB Score']].fillna('-')"
   ]
  },
  {
   "cell_type": "markdown",
   "id": "12038d6a",
   "metadata": {},
   "source": []
  },
  {
   "cell_type": "code",
   "execution_count": 122,
   "id": "619658de",
   "metadata": {},
   "outputs": [],
   "source": [
    "merged_data[['duration']] = merged_data[['duration']].fillna('-')"
   ]
  },
  {
   "cell_type": "code",
   "execution_count": 123,
   "id": "3d7ad27f",
   "metadata": {},
   "outputs": [],
   "source": [
    "merged_data[['description']] = merged_data[['description']].fillna('-')"
   ]
  },
  {
   "cell_type": "code",
   "execution_count": 124,
   "id": "fa7ed8bc",
   "metadata": {},
   "outputs": [
    {
     "name": "stdout",
     "output_type": "stream",
     "text": [
      "Data types before conversion:\n",
      "title             object\n",
      "type              object\n",
      "genres            object\n",
      "Year Released    float64\n",
      "IMDB Score        object\n",
      "rating            object\n",
      "duration          object\n",
      "description       object\n",
      "dtype: object\n"
     ]
    }
   ],
   "source": [
    "print(\"Data types before conversion:\")\n",
    "print(merged_data.dtypes)"
   ]
  },
  {
   "cell_type": "code",
   "execution_count": 125,
   "id": "eebbd3e0",
   "metadata": {},
   "outputs": [],
   "source": [
    "merged_data['Year Released'] = merged_data['Year Released'].astype('Int64')"
   ]
  },
  {
   "cell_type": "code",
   "execution_count": 126,
   "id": "57afe1d7",
   "metadata": {},
   "outputs": [
    {
     "name": "stdout",
     "output_type": "stream",
     "text": [
      "Data types after conversion\n",
      "title            object\n",
      "type             object\n",
      "genres           object\n",
      "Year Released     Int64\n",
      "IMDB Score       object\n",
      "rating           object\n",
      "duration         object\n",
      "description      object\n",
      "dtype: object\n"
     ]
    }
   ],
   "source": [
    "print(\"Data types after conversion\")\n",
    "print(merged_data.dtypes)"
   ]
  },
  {
   "cell_type": "code",
   "execution_count": 127,
   "id": "9da6e22f",
   "metadata": {},
   "outputs": [],
   "source": [
    "#merged_data[merged_data['title'].duplicated()]"
   ]
  },
  {
   "cell_type": "markdown",
   "id": "d5b628a5",
   "metadata": {},
   "source": [
    "#Remove duplicates"
   ]
  },
  {
   "cell_type": "code",
   "execution_count": null,
   "id": "6140c2a4",
   "metadata": {},
   "outputs": [],
   "source": [
    "merged_data = merged_data.sort_values(by='description', ascending=False)\n",
    "\n",
    "merged_data = merged_data.drop_duplicates(subset='title', keep='first')\n",
    "\n",
    "merged_data"
   ]
  },
  {
   "cell_type": "code",
   "execution_count": 129,
   "id": "c43168d2",
   "metadata": {},
   "outputs": [],
   "source": [
    "# Verify numbers\n",
    "# 30717 total rows before this\n",
    "#  5420 duplicates\n",
    "# 25297 rows now\n",
    "# the math works"
   ]
  },
  {
   "cell_type": "code",
   "execution_count": null,
   "id": "247e2698",
   "metadata": {},
   "outputs": [],
   "source": [
    "#We can tidy that column name to be more consistent\n",
    "merged_data.rename(columns={\n",
    "    'title' : 'Title',\n",
    "    'type': 'Type', \n",
    "    'genres': 'Genres', \n",
    "    'rating' : 'Rating',\n",
    "    'duration' : 'Duration', \n",
    "    'description' : 'Description'}, inplace=True)\n",
    "merged_data"
   ]
  },
  {
   "cell_type": "code",
   "execution_count": 141,
   "id": "2d9a7a16",
   "metadata": {},
   "outputs": [],
   "source": [
    "import sqlite3"
   ]
  },
  {
   "cell_type": "code",
   "execution_count": null,
   "id": "4c7aa1cd",
   "metadata": {},
   "outputs": [],
   "source": []
  },
  {
   "cell_type": "code",
   "execution_count": 132,
   "id": "a31dba3f",
   "metadata": {
    "vscode": {
     "languageId": "sql"
    }
   },
   "outputs": [],
   "source": [
    "conn = sqlite3.connect('merged_data.csv')\n",
    "cursor = conn.cursor()"
   ]
  },
  {
   "cell_type": "code",
   "execution_count": 139,
   "id": "ffc42e29",
   "metadata": {
    "vscode": {
     "languageId": "sql"
    }
   },
   "outputs": [
    {
     "data": {
      "text/plain": [
       "'merged_data'"
      ]
     },
     "execution_count": 139,
     "metadata": {},
     "output_type": "execute_result"
    }
   ],
   "source": [
    "df = pd.read_csv\n",
    "('merged_data')"
   ]
  },
  {
   "cell_type": "code",
   "execution_count": null,
   "id": "b867b52e",
   "metadata": {
    "vscode": {
     "languageId": "sql"
    }
   },
   "outputs": [],
   "source": [
    "import sqlite3\n",
    "\n",
    "# Connect to database\n",
    "conn = sqlite3.connect(\"my_database.db\")\n",
    "cursor = conn.cursor()\n",
    "\n",
    "# Select only rows where Type is 'Movie'\n",
    "cursor.execute(\"\"\"\n",
    "SELECT Type = 'Movie'\n",
    "FROM merged_data\n",
    "WHERE type = 'Movie';\n",
    "\"\"\")\n",
    "\n",
    "movies_only = cursor.fetchall()"
   ]
  },
  {
   "cell_type": "code",
   "execution_count": null,
   "id": "d80e5965",
   "metadata": {
    "vscode": {
     "languageId": "sql"
    }
   },
   "outputs": [],
   "source": [
    "# Create SQLite database and tables\n",
    "conn = sqlite3.connect(\"example.db\")\n",
    "cursor = conn.cursor()\n",
    "\n",
    "# Create tables movies_data\n",
    "cursor.execute(\"\"\"\n",
    "CREATE TABLE IF NOT EXISTS employees (\n",
    "    id INTEGER PRIMARY KEY,\n",
    "    name TEXT NOT NULL,\n",
    "    department_id INTEGER NOT NULL,\n",
    "    hire_date TEXT NOT NULL\n",
    ");\n",
    "\"\"\")\n",
    "\n",
    "# Create tables TV show_data\n",
    "cursor.execute(\"\"\"\n",
    "CREATE TABLE IF NOT EXISTS departments (\n",
    "    department_id INTEGER PRIMARY KEY,\n",
    "    name TEXT NOT NULL\n",
    ");\n",
    "\"\"\")\n",
    "\n",
    "# Insert data into tables\n",
    "employees_df.to_sql(\"employees\", conn, if_exists=\"replace\", index=False)\n",
    "departments_df.to_sql(\"departments\", conn, if_exists=\"replace\", index=False)\n",
    "\n",
    "# Verify data was inserted\n",
    "print(\"Employees Table:\\n\")\n",
    "print(pd.read_sql_query(\"SELECT * FROM employees\", conn))\n",
    "\n",
    "print(\"\\nDepartments Table:\\n\")\n",
    "print(pd.read_sql_query(\"SELECT * FROM departments\", conn))\n",
    "\n",
    "\n"
   ]
  },
  {
   "cell_type": "code",
   "execution_count": 146,
   "id": "c98f3352",
   "metadata": {
    "vscode": {
     "languageId": "sql"
    }
   },
   "outputs": [
    {
     "ename": "SyntaxError",
     "evalue": "invalid syntax (1308946437.py, line 2)",
     "output_type": "error",
     "traceback": [
      "  \u001b[36mCell\u001b[39m\u001b[36m \u001b[39m\u001b[32mIn[146]\u001b[39m\u001b[32m, line 2\u001b[39m\n\u001b[31m    \u001b[39m\u001b[31mMovies_df = pd.DataFrame[('merged_data'), ('Type' - Movie). ('Type' = Movies_df)]\u001b[39m\n                                                                ^\n\u001b[31mSyntaxError\u001b[39m\u001b[31m:\u001b[39m invalid syntax\n"
     ]
    }
   ],
   "source": [
    "# Create DataFrames\n",
    "Movies_df = pd.DataFrame[('merged_data'), ('Type' - Movie). ('Type' = Movies_df)]\n",
    "##TV_df = pd.DataFrame('merged_data'), (Type - TV show). TV_data)"
   ]
  },
  {
   "cell_type": "code",
   "execution_count": 134,
   "id": "8c68b299",
   "metadata": {
    "vscode": {
     "languageId": "sql"
    }
   },
   "outputs": [],
   "source": [
    "cursor.execute(\"\"\"\n",
    "CREATE TABLE IF NOT EXISTS movies (\n",
    "    title TEXT NOT NULL,\n",
    "    type TEXT NOT NULL,\n",
    "    Year Released INTEGER PRIMARY KEY,\n",
    "    genres TEXT NOT NULL\n",
    ");\n",
    "\"\"\")\n",
    "\n",
    "conn.commit()"
   ]
  },
  {
   "cell_type": "markdown",
   "id": "5ba38077",
   "metadata": {},
   "source": [
    "#Insert data into tables"
   ]
  },
  {
   "cell_type": "markdown",
   "id": "91672e84",
   "metadata": {
    "vscode": {
     "languageId": "sql"
    }
   },
   "source": [
    "#df.to_sql(\"movies\", conn, if_exists=\"replace\", index=False)"
   ]
  },
  {
   "cell_type": "code",
   "execution_count": 135,
   "id": "b779d8c1",
   "metadata": {
    "vscode": {
     "languageId": "sql"
    }
   },
   "outputs": [],
   "source": [
    "#Create SQLITE database and tables\n",
    "\n",
    "conn = sqlite3.connect(\"merged_data.db\")\n",
    "cursor = conn.cursor()"
   ]
  },
  {
   "cell_type": "markdown",
   "id": "ff1b828e",
   "metadata": {},
   "source": [
    "# Create TV Shows table"
   ]
  },
  {
   "cell_type": "code",
   "execution_count": 136,
   "id": "13bfde81",
   "metadata": {
    "vscode": {
     "languageId": "sql"
    }
   },
   "outputs": [],
   "source": [
    "cursor.execute(\"\"\"\n",
    "CREATE TABLE IF NOT EXISTS TV_Shows (\n",
    "    title TEXT NOT NULL,\n",
    "    type TEXT NOT NULL,\n",
    "    Year_Released INTEGER PRIMARY KEY,\n",
    "    genres TEXT NOT NULL\n",
    ");\n",
    "\"\"\")\n",
    "\n",
    "conn.commit()"
   ]
  },
  {
   "cell_type": "markdown",
   "id": "89ba75cc",
   "metadata": {},
   "source": [
    "#insert data into tables"
   ]
  },
  {
   "cell_type": "code",
   "execution_count": 137,
   "id": "16425c9f",
   "metadata": {
    "vscode": {
     "languageId": "sql"
    }
   },
   "outputs": [
    {
     "data": {
      "text/plain": [
       "25297"
      ]
     },
     "execution_count": 137,
     "metadata": {},
     "output_type": "execute_result"
    }
   ],
   "source": [
    "merged_data. to_sql(\"movie\", conn, if_exists=\"replace\", index=False)"
   ]
  },
  {
   "cell_type": "code",
   "execution_count": 138,
   "id": "cd127ddb",
   "metadata": {
    "vscode": {
     "languageId": "sql"
    }
   },
   "outputs": [
    {
     "name": "stdout",
     "output_type": "stream",
     "text": [
      "movie Data Table: \n",
      "\n"
     ]
    }
   ],
   "source": [
    "print(\"movie Data Table: \\n\")"
   ]
  },
  {
   "cell_type": "code",
   "execution_count": null,
   "id": "f2d2b7ec",
   "metadata": {
    "vscode": {
     "languageId": "sql"
    }
   },
   "outputs": [],
   "source": []
  },
  {
   "cell_type": "code",
   "execution_count": null,
   "id": "48cc6558",
   "metadata": {
    "vscode": {
     "languageId": "sql"
    }
   },
   "outputs": [],
   "source": []
  },
  {
   "cell_type": "code",
   "execution_count": null,
   "id": "32afe41a",
   "metadata": {
    "vscode": {
     "languageId": "sql"
    }
   },
   "outputs": [],
   "source": []
  },
  {
   "cell_type": "code",
   "execution_count": null,
   "id": "9a14c150",
   "metadata": {
    "vscode": {
     "languageId": "sql"
    }
   },
   "outputs": [],
   "source": []
  },
  {
   "cell_type": "markdown",
   "id": "7b8458f3",
   "metadata": {},
   "source": [
    "Visualizations"
   ]
  },
  {
   "cell_type": "code",
   "execution_count": null,
   "id": "17986580",
   "metadata": {
    "vscode": {
     "languageId": "sql"
    }
   },
   "outputs": [],
   "source": []
  }
 ],
 "metadata": {
  "kernelspec": {
   "display_name": "Python 3",
   "language": "python",
   "name": "python3"
  },
  "language_info": {
   "codemirror_mode": {
    "name": "ipython",
    "version": 3
   },
   "file_extension": ".py",
   "mimetype": "text/x-python",
   "name": "python",
   "nbconvert_exporter": "python",
   "pygments_lexer": "ipython3",
   "version": "3.13.2"
  }
 },
 "nbformat": 4,
 "nbformat_minor": 5
}
